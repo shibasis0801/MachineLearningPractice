{
 "cells": [
  {
   "cell_type": "code",
   "execution_count": 2,
   "metadata": {},
   "outputs": [],
   "source": [
    "from tensorflow.keras.datasets import imdb\n"
   ]
  },
  {
   "cell_type": "code",
   "execution_count": 4,
   "metadata": {},
   "outputs": [],
   "source": [
    "(train_data, train_labels), (test_data, test_labels) = imdb.load_data(num_words=10000)"
   ]
  },
  {
   "cell_type": "code",
   "execution_count": 13,
   "metadata": {},
   "outputs": [
    {
     "data": {
      "text/plain": [
       "('WORD ENCODED AS INTEGER',\n",
       " [1,\n",
       "  14,\n",
       "  22,\n",
       "  16,\n",
       "  43,\n",
       "  530,\n",
       "  973,\n",
       "  1622,\n",
       "  1385,\n",
       "  65,\n",
       "  458,\n",
       "  4468,\n",
       "  66,\n",
       "  3941,\n",
       "  4,\n",
       "  173,\n",
       "  36,\n",
       "  256,\n",
       "  5,\n",
       "  25,\n",
       "  100,\n",
       "  43,\n",
       "  838,\n",
       "  112,\n",
       "  50,\n",
       "  670,\n",
       "  2,\n",
       "  9,\n",
       "  35,\n",
       "  480,\n",
       "  284,\n",
       "  5,\n",
       "  150,\n",
       "  4,\n",
       "  172,\n",
       "  112,\n",
       "  167,\n",
       "  2,\n",
       "  336,\n",
       "  385,\n",
       "  39,\n",
       "  4,\n",
       "  172,\n",
       "  4536,\n",
       "  1111,\n",
       "  17,\n",
       "  546,\n",
       "  38,\n",
       "  13,\n",
       "  447,\n",
       "  4,\n",
       "  192,\n",
       "  50,\n",
       "  16,\n",
       "  6,\n",
       "  147,\n",
       "  2025,\n",
       "  19,\n",
       "  14,\n",
       "  22,\n",
       "  4,\n",
       "  1920,\n",
       "  4613,\n",
       "  469,\n",
       "  4,\n",
       "  22,\n",
       "  71,\n",
       "  87,\n",
       "  12,\n",
       "  16,\n",
       "  43,\n",
       "  530,\n",
       "  38,\n",
       "  76,\n",
       "  15,\n",
       "  13,\n",
       "  1247,\n",
       "  4,\n",
       "  22,\n",
       "  17,\n",
       "  515,\n",
       "  17,\n",
       "  12,\n",
       "  16,\n",
       "  626,\n",
       "  18,\n",
       "  2,\n",
       "  5,\n",
       "  62,\n",
       "  386,\n",
       "  12,\n",
       "  8,\n",
       "  316,\n",
       "  8,\n",
       "  106,\n",
       "  5,\n",
       "  4,\n",
       "  2223,\n",
       "  5244,\n",
       "  16,\n",
       "  480,\n",
       "  66,\n",
       "  3785,\n",
       "  33,\n",
       "  4,\n",
       "  130,\n",
       "  12,\n",
       "  16,\n",
       "  38,\n",
       "  619,\n",
       "  5,\n",
       "  25,\n",
       "  124,\n",
       "  51,\n",
       "  36,\n",
       "  135,\n",
       "  48,\n",
       "  25,\n",
       "  1415,\n",
       "  33,\n",
       "  6,\n",
       "  22,\n",
       "  12,\n",
       "  215,\n",
       "  28,\n",
       "  77,\n",
       "  52,\n",
       "  5,\n",
       "  14,\n",
       "  407,\n",
       "  16,\n",
       "  82,\n",
       "  2,\n",
       "  8,\n",
       "  4,\n",
       "  107,\n",
       "  117,\n",
       "  5952,\n",
       "  15,\n",
       "  256,\n",
       "  4,\n",
       "  2,\n",
       "  7,\n",
       "  3766,\n",
       "  5,\n",
       "  723,\n",
       "  36,\n",
       "  71,\n",
       "  43,\n",
       "  530,\n",
       "  476,\n",
       "  26,\n",
       "  400,\n",
       "  317,\n",
       "  46,\n",
       "  7,\n",
       "  4,\n",
       "  2,\n",
       "  1029,\n",
       "  13,\n",
       "  104,\n",
       "  88,\n",
       "  4,\n",
       "  381,\n",
       "  15,\n",
       "  297,\n",
       "  98,\n",
       "  32,\n",
       "  2071,\n",
       "  56,\n",
       "  26,\n",
       "  141,\n",
       "  6,\n",
       "  194,\n",
       "  7486,\n",
       "  18,\n",
       "  4,\n",
       "  226,\n",
       "  22,\n",
       "  21,\n",
       "  134,\n",
       "  476,\n",
       "  26,\n",
       "  480,\n",
       "  5,\n",
       "  144,\n",
       "  30,\n",
       "  5535,\n",
       "  18,\n",
       "  51,\n",
       "  36,\n",
       "  28,\n",
       "  224,\n",
       "  92,\n",
       "  25,\n",
       "  104,\n",
       "  4,\n",
       "  226,\n",
       "  65,\n",
       "  16,\n",
       "  38,\n",
       "  1334,\n",
       "  88,\n",
       "  12,\n",
       "  16,\n",
       "  283,\n",
       "  5,\n",
       "  16,\n",
       "  4472,\n",
       "  113,\n",
       "  103,\n",
       "  32,\n",
       "  15,\n",
       "  16,\n",
       "  5345,\n",
       "  19,\n",
       "  178,\n",
       "  32])"
      ]
     },
     "execution_count": 13,
     "metadata": {},
     "output_type": "execute_result"
    }
   ],
   "source": [
    "\"WORD ENCODED AS INTEGER\", train_data[0]"
   ]
  },
  {
   "cell_type": "code",
   "execution_count": 8,
   "metadata": {},
   "outputs": [
    {
     "data": {
      "text/plain": [
       "'the'"
      ]
     },
     "execution_count": 8,
     "metadata": {},
     "output_type": "execute_result"
    }
   ],
   "source": [
    "word_index = imdb.get_word_index()\n",
    "reverse_word_index = { word_index[key]: key for key in word_index }\n",
    "reverse_word_index[1]"
   ]
  },
  {
   "cell_type": "code",
   "execution_count": 14,
   "metadata": {},
   "outputs": [
    {
     "data": {
      "text/plain": [
       "('WORD DECODED FROM INTEGER',\n",
       " \"? this film was just brilliant casting location scenery story direction everyone's really suited the part they played and you could just imagine being there robert ? is an amazing actor and now the same being director ? father came from the same scottish island as myself so i loved the fact there was a real connection with this film the witty remarks throughout the film were great it was just brilliant so much that i bought the film as soon as it was released for ? and would recommend it to everyone to watch and the fly fishing was amazing really cried at the end it was so sad and you know what they say if you cry at a film it must have been good and this definitely was also ? to the two little boy's that played the ? of norman and paul they were just brilliant children are often left out of the ? list i think because the stars that play them all grown up are such a big profile for the whole film but these children are amazing and should be praised for what they have done don't you think the whole story was so lovely because it was true and was someone's life after all that was shared with us all\")"
      ]
     },
     "execution_count": 14,
     "metadata": {},
     "output_type": "execute_result"
    }
   ],
   "source": [
    "\"WORD DECODED FROM INTEGER\", ' '.join([reverse_word_index.get(idx - 3, '?') for idx in train_data[0]])"
   ]
  },
  {
   "cell_type": "raw",
   "metadata": {},
   "source": [
    "We have to supply this list of integers to the neural network.\n",
    "Two options\n",
    "1 > PAD every list so that they are of the same shape, then send it to the net. \n",
    "2 > Make every list into an OneHot vector of 10000 length. (10000 was supplied at input)"
   ]
  },
  {
   "cell_type": "code",
   "execution_count": 55,
   "metadata": {},
   "outputs": [],
   "source": [
    "import numpy as np\n",
    "\n",
    "# Does one_hot encoding. \n",
    "# NOTE: THIS WILL REMOVE MULTIPLE WORDS. ONLY ONE OCCURENCE IS RECORDED\n",
    "def vectorize_sequences(sequences, dimension=10000):\n",
    "    results = np.zeros((len(sequences), dimension))\n",
    "    for idx, sequence in enumerate(sequences):\n",
    "        results[idx, sequence] = 1\n",
    "    return results\n",
    "\n",
    "x_train = vectorize_sequences(train_data)\n",
    "x_test = vectorize_sequences(test_data)"
   ]
  },
  {
   "cell_type": "code",
   "execution_count": 38,
   "metadata": {},
   "outputs": [],
   "source": [
    "y_train = np.asarray(train_labels).astype('float32')\n",
    "y_test = np.asarray(test_labels).astype('float32')"
   ]
  },
  {
   "cell_type": "code",
   "execution_count": 39,
   "metadata": {},
   "outputs": [],
   "source": [
    "from tensorflow.keras import models, layers\n",
    "\n",
    "network = models.Sequential()\n",
    "# Map 10000 to 16\n",
    "network.add(layers.Dense(16, activation='relu', input_shape=(10000, )))\n",
    "# 16 -> 16, pure operations layer\n",
    "network.add(layers.Dense(16, activation='relu'))\n",
    "# binary classification problem, outputs probability. \n",
    "network.add(layers.Dense(1, activation='sigmoid'))"
   ]
  },
  {
   "cell_type": "code",
   "execution_count": 40,
   "metadata": {},
   "outputs": [],
   "source": [
    "# CrossEntropy: Distance between our predictions and the actual values\n",
    "\n",
    "# RMSprop is also available as keras.optimizers.RMSprop if you need to tweak its values. \n",
    "network.compile(optimizer='rmsprop', loss='binary_crossentropy', metrics=['accuracy'])"
   ]
  },
  {
   "cell_type": "code",
   "execution_count": 41,
   "metadata": {},
   "outputs": [],
   "source": [
    "# Creating validation set\n",
    "\n",
    "x_validation = x_train[:10000]\n",
    "y_validation = y_train[:10000]\n",
    "\n",
    "x_partial_train = x_train[10000:]\n",
    "y_partial_train = y_train[10000:]"
   ]
  },
  {
   "cell_type": "code",
   "execution_count": 42,
   "metadata": {},
   "outputs": [
    {
     "name": "stdout",
     "output_type": "stream",
     "text": [
      "Train on 15000 samples, validate on 10000 samples\n",
      "Epoch 1/20\n",
      "15000/15000 [==============================] - 1s 91us/sample - loss: 0.5351 - accuracy: 0.7711 - val_loss: 0.4060 - val_accuracy: 0.8642\n",
      "Epoch 2/20\n",
      "15000/15000 [==============================] - 1s 62us/sample - loss: 0.3217 - accuracy: 0.9020 - val_loss: 0.3111 - val_accuracy: 0.8904\n",
      "Epoch 3/20\n",
      "15000/15000 [==============================] - 1s 63us/sample - loss: 0.2345 - accuracy: 0.9251 - val_loss: 0.2829 - val_accuracy: 0.8897\n",
      "Epoch 4/20\n",
      "15000/15000 [==============================] - 1s 63us/sample - loss: 0.1832 - accuracy: 0.9409 - val_loss: 0.2776 - val_accuracy: 0.8906\n",
      "Epoch 5/20\n",
      "15000/15000 [==============================] - 1s 64us/sample - loss: 0.1482 - accuracy: 0.9534 - val_loss: 0.2780 - val_accuracy: 0.8878\n",
      "Epoch 6/20\n",
      "15000/15000 [==============================] - 1s 63us/sample - loss: 0.1226 - accuracy: 0.9636 - val_loss: 0.2878 - val_accuracy: 0.8882\n",
      "Epoch 7/20\n",
      "15000/15000 [==============================] - 1s 62us/sample - loss: 0.1024 - accuracy: 0.9699 - val_loss: 0.3125 - val_accuracy: 0.8815\n",
      "Epoch 8/20\n",
      "15000/15000 [==============================] - 1s 62us/sample - loss: 0.0864 - accuracy: 0.9741 - val_loss: 0.3371 - val_accuracy: 0.8790\n",
      "Epoch 9/20\n",
      "15000/15000 [==============================] - 1s 65us/sample - loss: 0.0713 - accuracy: 0.9817 - val_loss: 0.3808 - val_accuracy: 0.8723\n",
      "Epoch 10/20\n",
      "15000/15000 [==============================] - 1s 62us/sample - loss: 0.0614 - accuracy: 0.9841 - val_loss: 0.3700 - val_accuracy: 0.8775\n",
      "Epoch 11/20\n",
      "15000/15000 [==============================] - 1s 62us/sample - loss: 0.0476 - accuracy: 0.9890 - val_loss: 0.3977 - val_accuracy: 0.8765\n",
      "Epoch 12/20\n",
      "15000/15000 [==============================] - 1s 63us/sample - loss: 0.0405 - accuracy: 0.9915 - val_loss: 0.4307 - val_accuracy: 0.8743\n",
      "Epoch 13/20\n",
      "15000/15000 [==============================] - 1s 63us/sample - loss: 0.0343 - accuracy: 0.9928 - val_loss: 0.4558 - val_accuracy: 0.8716\n",
      "Epoch 14/20\n",
      "15000/15000 [==============================] - 1s 64us/sample - loss: 0.0278 - accuracy: 0.9941 - val_loss: 0.5002 - val_accuracy: 0.8689\n",
      "Epoch 15/20\n",
      "15000/15000 [==============================] - 1s 63us/sample - loss: 0.0215 - accuracy: 0.9961 - val_loss: 0.5180 - val_accuracy: 0.8702\n",
      "Epoch 16/20\n",
      "15000/15000 [==============================] - 1s 62us/sample - loss: 0.0178 - accuracy: 0.9974 - val_loss: 0.5552 - val_accuracy: 0.8681\n",
      "Epoch 17/20\n",
      "15000/15000 [==============================] - 1s 62us/sample - loss: 0.0141 - accuracy: 0.9981 - val_loss: 0.5944 - val_accuracy: 0.8671\n",
      "Epoch 18/20\n",
      "15000/15000 [==============================] - 1s 62us/sample - loss: 0.0130 - accuracy: 0.9983 - val_loss: 0.6282 - val_accuracy: 0.8662\n",
      "Epoch 19/20\n",
      "15000/15000 [==============================] - 1s 64us/sample - loss: 0.0094 - accuracy: 0.9988 - val_loss: 0.6644 - val_accuracy: 0.8649\n",
      "Epoch 20/20\n",
      "15000/15000 [==============================] - 1s 61us/sample - loss: 0.0053 - accuracy: 0.9999 - val_loss: 0.7058 - val_accuracy: 0.8635\n"
     ]
    }
   ],
   "source": [
    "history = network.fit(\n",
    "    x_partial_train, \n",
    "    y_partial_train, \n",
    "    epochs=20, batch_size=512, \n",
    "    validation_data=(x_validation, y_validation)\n",
    ")"
   ]
  },
  {
   "cell_type": "raw",
   "metadata": {},
   "source": [
    "History allows us to inspect the training process and gain insight.\n"
   ]
  },
  {
   "cell_type": "code",
   "execution_count": 43,
   "metadata": {},
   "outputs": [
    {
     "data": {
      "text/plain": [
       "dict_keys(['loss', 'accuracy', 'val_loss', 'val_accuracy'])"
      ]
     },
     "execution_count": 43,
     "metadata": {},
     "output_type": "execute_result"
    }
   ],
   "source": [
    "history.history.keys()"
   ]
  },
  {
   "cell_type": "markdown",
   "metadata": {},
   "source": [
    "As we can see below the network overfits really bad"
   ]
  },
  {
   "cell_type": "code",
   "execution_count": 44,
   "metadata": {},
   "outputs": [
    {
     "data": {
      "image/png": "[encoded data removed]",
      "text/plain": [
       "<Figure size 432x288 with 1 Axes>"
      ]
     },
     "metadata": {
      "needs_background": "light"
     },
     "output_type": "display_data"
    }
   ],
   "source": [
    "%matplotlib inline\n",
    "import matplotlib.pyplot as plt \n",
    "\n",
    "history_dict = history.history\n",
    "loss_values = history_dict['loss']\n",
    "val_loss_values = history_dict['val_loss']\n",
    "\n",
    "epochs = range(1, len(history_dict['accuracy']) + 1)\n",
    "\n",
    "plt.plot(epochs, loss_values, 'bo', label='Training Loss')\n",
    "plt.plot(epochs, val_loss_values, 'b', label='Validation Loss')\n",
    "\n",
    "plt.title(\"Training and Validation loss\")\n",
    "plt.xlabel('Epochs')\n",
    "plt.ylabel('Loss')\n",
    "plt.legend()\n",
    "\n",
    "plt.show()\n"
   ]
  },
  {
   "cell_type": "code",
   "execution_count": 45,
   "metadata": {},
   "outputs": [
    {
     "data": {
      "image/png": "[encoded data removed]",
      "text/plain": [
       "<Figure size 432x288 with 1 Axes>"
      ]
     },
     "metadata": {
      "needs_background": "light"
     },
     "output_type": "display_data"
    }
   ],
   "source": [
    "plt.clf()\n",
    "acc_values = history_dict['accuracy']\n",
    "val_acc_values = history_dict['val_accuracy']\n",
    "plt.plot(epochs, acc_values, 'bo', label='Training Accuracy')\n",
    "plt.plot(epochs, val_acc_values, 'b', label='Validation Accuracy')\n",
    "plt.xlabel('Epochs')\n",
    "plt.ylabel('Accuracy')\n",
    "plt.legend()\n",
    "plt.show()"
   ]
  },
  {
   "cell_type": "code",
   "execution_count": 46,
   "metadata": {},
   "outputs": [
    {
     "name": "stdout",
     "output_type": "stream",
     "text": [
      "Train on 15000 samples\n",
      "Epoch 1/4\n",
      "15000/15000 [==============================] - 1s 61us/sample - loss: 0.5067 - accuracy: 0.7945\n",
      "Epoch 2/4\n",
      "15000/15000 [==============================] - 1s 38us/sample - loss: 0.2981 - accuracy: 0.9034\n",
      "Epoch 3/4\n",
      "15000/15000 [==============================] - 1s 38us/sample - loss: 0.2202 - accuracy: 0.9273\n",
      "Epoch 4/4\n",
      "15000/15000 [==============================] - 1s 36us/sample - loss: 0.1715 - accuracy: 0.9439\n"
     ]
    },
    {
     "data": {
      "text/plain": [
       "<tensorflow.python.keras.callbacks.History at 0x1cfad4d5088>"
      ]
     },
     "execution_count": 46,
     "metadata": {},
     "output_type": "execute_result"
    }
   ],
   "source": [
    "model = models.Sequential()\n",
    "model.add(layers.Dense(16, activation='relu', input_shape=(10000,)))\n",
    "model.add(layers.Dense(16, activation='relu'))\n",
    "model.add(layers.Dense(1, activation='sigmoid'))\n",
    "\n",
    "model.compile(optimizer='rmsprop', loss='binary_crossentropy', metrics=['accuracy'])\n",
    "model.fit(x_partial_train, y_partial_train, epochs = 4, batch_size=512)\n"
   ]
  },
  {
   "cell_type": "code",
   "execution_count": 47,
   "metadata": {},
   "outputs": [
    {
     "name": "stdout",
     "output_type": "stream",
     "text": [
      "25000/25000 [==============================] - 2s 92us/sample - loss: 0.3010 - accuracy: 0.8781\n"
     ]
    },
    {
     "data": {
      "text/plain": [
       "[0.30099417234897613, 0.87808]"
      ]
     },
     "execution_count": 47,
     "metadata": {},
     "output_type": "execute_result"
    }
   ],
   "source": [
    "model.evaluate(x_test, y_test)"
   ]
  },
  {
   "cell_type": "code",
   "execution_count": 53,
   "metadata": {},
   "outputs": [
    {
     "data": {
      "text/plain": [
       "('WORD DECODED UNORDERED FROM ONEHOT',\n",
       " \"? ? the and a of to is br in it i this that as with movie but film on you his have be one by an so from her it's has if some there what good very up time she even story really see well other because think characters films character many plot off does still man here say scenes work makes find same part lot want young take may interesting script might performance sure set place worth job plays short video small written style definitely unfortunately michael directed viewer brilliant matter strong simple scary robert attention buy atmosphere sexual subject difficult emotional development perfectly powerful create pay considering tension bizarre disturbing mood climax fascinating content apartment wonderfully unusual player psychological regular deals study fits structure focuses murphy burns dennis praise internet patient requires evident response darker builds audio desperation moody convincingly sincere trademark patience loneliness altman stores mute frances unconventional sandy\")"
      ]
     },
     "execution_count": 53,
     "metadata": {},
     "output_type": "execute_result"
    }
   ],
   "source": [
    "\"WORD DECODED UNORDERED FROM ONEHOT\", ' '.join([\n",
    "    reverse_word_index.get(idx - 3, '?') \n",
    "    for idx, el in enumerate(x_test[1]) if el == 1\n",
    "])"
   ]
  },
  {
   "cell_type": "code",
   "execution_count": 54,
   "metadata": {},
   "outputs": [
    {
     "data": {
      "text/plain": [
       "('WORD DECODED FROM INTEGER',\n",
       " \"? this film requires a lot of patience because it focuses on mood and character development the plot is very simple and many of the scenes take place on the same set in frances ? the sandy dennis character apartment but the film builds to a disturbing climax br br the characters create an atmosphere ? with sexual tension and psychological ? it's very interesting that robert altman directed this considering the style and structure of his other films still the trademark altman audio style is evident here and there i think what really makes this film work is the brilliant performance by sandy dennis it's definitely one of her darker characters but she plays it so perfectly and convincingly that it's scary michael burns does a good job as the mute young man regular altman player michael murphy has a small part the ? moody set fits the content of the story very well in short this movie is a powerful study of loneliness sexual ? and desperation be patient ? up the atmosphere and pay attention to the wonderfully written script br br i praise robert altman this is one of his many films that deals with unconventional fascinating subject matter this film is disturbing but it's sincere and it's sure to ? a strong emotional response from the viewer if you want to see an unusual film some might even say bizarre this is worth the time br br unfortunately it's very difficult to find in video stores you may have to buy it off the internet\")"
      ]
     },
     "execution_count": 54,
     "metadata": {},
     "output_type": "execute_result"
    }
   ],
   "source": [
    "\"WORD DECODED FROM INTEGER\", ' '.join([reverse_word_index.get(idx - 3, '?') for idx in test_data[1]])"
   ]
  },
  {
   "cell_type": "raw",
   "metadata": {},
   "source": [
    "There is a lot of difference between the 2. The structure is broken from ONE-HOT encoding. \n",
    "Also from grammer, difference in order should also affect the sentiment. \n",
    "Try again with a RNN and don't use OneHot encoding "
   ]
  },
  {
   "cell_type": "code",
   "execution_count": 61,
   "metadata": {},
   "outputs": [
    {
     "data": {
      "text/plain": [
       "array([0.99892455], dtype=float32)"
      ]
     },
     "execution_count": 61,
     "metadata": {},
     "output_type": "execute_result"
    }
   ],
   "source": [
    "model.predict(x_test)[1]"
   ]
  },
  {
   "cell_type": "raw",
   "metadata": {},
   "source": [
    "So the neural net thinks that the user likes the movie. Read the paragraph, and think what you feel."
   ]
  },
  {
   "cell_type": "code",
   "execution_count": null,
   "metadata": {},
   "outputs": [],
   "source": []
  }
 ],
 "metadata": {
  "kernelspec": {
   "display_name": "Python 3.7.1 64-bit ('ProgramData': virtualenv)",
   "language": "python",
   "name": "python37164bitprogramdatavirtualenvbb4adb96f3e34073ab0308414d49f0f6"
  },
  "language_info": {
   "codemirror_mode": {
    "name": "ipython",
    "version": 3
   },
   "file_extension": ".py",
   "mimetype": "text/x-python",
   "name": "python",
   "nbconvert_exporter": "python",
   "pygments_lexer": "ipython3",
   "version": "3.7.6"
  }
 },
 "nbformat": 4,
 "nbformat_minor": 4
}
