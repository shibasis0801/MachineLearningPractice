{
  "nbformat": 4,
  "nbformat_minor": 0,
  "metadata": {
    "colab": {
      "name": "CatsVsDogs-VGG16.ipynb",
      "provenance": [],
      "collapsed_sections": [],
      "authorship_tag": "ABX9TyPdsGozwO0cg+JJ1feL8r8A",
      "include_colab_link": true
    },
    "kernelspec": {
      "name": "python3",
      "display_name": "Python 3"
    },
    "accelerator": "GPU"
  },
  "cells": [
    {
      "cell_type": "markdown",
      "metadata": {
        "id": "view-in-github",
        "colab_type": "text"
      },
      "source": [
        "<a href=\"https://colab.research.google.com/github/shibasis0801/MachineLearningPractice/blob/master/books/DeepLearningWithKeras/CNN/CatsVsDogs_VGG16.ipynb\" target=\"_parent\"><img src=\"https://colab.research.google.com/assets/colab-badge.svg\" alt=\"Open In Colab\"/></a>"
      ]
    },
    {
      "cell_type": "code",
      "metadata": {
        "colab_type": "code",
        "id": "RXZT2UsyIVe_",
        "colab": {
          "base_uri": "https://localhost:8080/",
          "height": 202
        },
        "outputId": "d553688f-f4a9-41ca-9913-ef371149c712"
      },
      "source": [
        "!wget --no-check-certificate \\\n",
        "    https://storage.googleapis.com/mledu-datasets/cats_and_dogs_filtered.zip \\\n",
        "    -O /tmp/cats_and_dogs_filtered.zip"
      ],
      "execution_count": 4,
      "outputs": [
        {
          "output_type": "stream",
          "text": [
            "--2020-08-15 06:48:29--  https://storage.googleapis.com/mledu-datasets/cats_and_dogs_filtered.zip\n",
            "Resolving storage.googleapis.com (storage.googleapis.com)... 108.177.126.128, 108.177.127.128, 173.194.79.128, ...\n",
            "Connecting to storage.googleapis.com (storage.googleapis.com)|108.177.126.128|:443... connected.\n",
            "HTTP request sent, awaiting response... 200 OK\n",
            "Length: 68606236 (65M) [application/zip]\n",
            "Saving to: ‘/tmp/cats_and_dogs_filtered.zip’\n",
            "\n",
            "/tmp/cats_and_dogs_ 100%[===================>]  65.43M  89.1MB/s    in 0.7s    \n",
            "\n",
            "2020-08-15 06:48:30 (89.1 MB/s) - ‘/tmp/cats_and_dogs_filtered.zip’ saved [68606236/68606236]\n",
            "\n"
          ],
          "name": "stdout"
        }
      ]
    },
    {
      "cell_type": "code",
      "metadata": {
        "id": "1QQZT4tSq4oN",
        "colab_type": "code",
        "colab": {}
      },
      "source": [
        "import os\n",
        "from os.path import join as pjoin\n",
        "import zipfile\n",
        "\n",
        "local_zip = '/tmp/cats_and_dogs_filtered.zip'\n",
        "zip_ref = zipfile.ZipFile(local_zip, 'r')\n",
        "zip_ref.extractall('/tmp')\n",
        "zip_ref.close()"
      ],
      "execution_count": 5,
      "outputs": []
    },
    {
      "cell_type": "code",
      "metadata": {
        "id": "qqc-63Tiq6zy",
        "colab_type": "code",
        "colab": {}
      },
      "source": [
        "base_dir = \"/tmp/cats_and_dogs_filtered\"\n",
        "\n",
        "dir_train = pjoin(base_dir, \"train\")\n",
        "dir_validation = pjoin(base_dir, \"validation\")\n",
        "\n",
        "dir_train_cats = pjoin(dir_train, \"cats\")\n",
        "dir_validation_cats = pjoin(dir_validation, \"cats\")\n",
        "\n",
        "dir_train_dogs = pjoin(dir_train, \"dogs\")\n",
        "dir_validation_dogs = pjoin(dir_validation, \"dogs\")"
      ],
      "execution_count": 6,
      "outputs": []
    },
    {
      "cell_type": "code",
      "metadata": {
        "id": "-lu0SRZRrGLL",
        "colab_type": "code",
        "colab": {
          "base_uri": "https://localhost:8080/",
          "height": 790
        },
        "outputId": "28448d84-ec48-450b-8d1b-c0172a1e3156"
      },
      "source": [
        "from tensorflow.keras.applications import VGG16\n",
        "vgg16 = VGG16(\n",
        "    weights='imagenet', \n",
        "    include_top=False,\n",
        "    input_shape=(150, 150, 3)\n",
        ")\n",
        "vgg16.summary()"
      ],
      "execution_count": 7,
      "outputs": [
        {
          "output_type": "stream",
          "text": [
            "Model: \"vgg16\"\n",
            "_________________________________________________________________\n",
            "Layer (type)                 Output Shape              Param #   \n",
            "=================================================================\n",
            "input_2 (InputLayer)         [(None, 150, 150, 3)]     0         \n",
            "_________________________________________________________________\n",
            "block1_conv1 (Conv2D)        (None, 150, 150, 64)      1792      \n",
            "_________________________________________________________________\n",
            "block1_conv2 (Conv2D)        (None, 150, 150, 64)      36928     \n",
            "_________________________________________________________________\n",
            "block1_pool (MaxPooling2D)   (None, 75, 75, 64)        0         \n",
            "_________________________________________________________________\n",
            "block2_conv1 (Conv2D)        (None, 75, 75, 128)       73856     \n",
            "_________________________________________________________________\n",
            "block2_conv2 (Conv2D)        (None, 75, 75, 128)       147584    \n",
            "_________________________________________________________________\n",
            "block2_pool (MaxPooling2D)   (None, 37, 37, 128)       0         \n",
            "_________________________________________________________________\n",
            "block3_conv1 (Conv2D)        (None, 37, 37, 256)       295168    \n",
            "_________________________________________________________________\n",
            "block3_conv2 (Conv2D)        (None, 37, 37, 256)       590080    \n",
            "_________________________________________________________________\n",
            "block3_conv3 (Conv2D)        (None, 37, 37, 256)       590080    \n",
            "_________________________________________________________________\n",
            "block3_pool (MaxPooling2D)   (None, 18, 18, 256)       0         \n",
            "_________________________________________________________________\n",
            "block4_conv1 (Conv2D)        (None, 18, 18, 512)       1180160   \n",
            "_________________________________________________________________\n",
            "block4_conv2 (Conv2D)        (None, 18, 18, 512)       2359808   \n",
            "_________________________________________________________________\n",
            "block4_conv3 (Conv2D)        (None, 18, 18, 512)       2359808   \n",
            "_________________________________________________________________\n",
            "block4_pool (MaxPooling2D)   (None, 9, 9, 512)         0         \n",
            "_________________________________________________________________\n",
            "block5_conv1 (Conv2D)        (None, 9, 9, 512)         2359808   \n",
            "_________________________________________________________________\n",
            "block5_conv2 (Conv2D)        (None, 9, 9, 512)         2359808   \n",
            "_________________________________________________________________\n",
            "block5_conv3 (Conv2D)        (None, 9, 9, 512)         2359808   \n",
            "_________________________________________________________________\n",
            "block5_pool (MaxPooling2D)   (None, 4, 4, 512)         0         \n",
            "=================================================================\n",
            "Total params: 14,714,688\n",
            "Trainable params: 14,714,688\n",
            "Non-trainable params: 0\n",
            "_________________________________________________________________\n"
          ],
          "name": "stdout"
        }
      ]
    },
    {
      "cell_type": "code",
      "metadata": {
        "id": "9T1f__5_tnHv",
        "colab_type": "code",
        "colab": {}
      },
      "source": [
        "import os\n",
        "import numpy as np\n",
        "from keras.preprocessing.image import ImageDataGenerator\n",
        "\n",
        "datagen = ImageDataGenerator(rescale=1.0/255)\n",
        "batch_size = 20\n",
        "\n",
        "def extract_features(directory, sample_count):\n",
        "  features = np.zeros(shape=(sample_count, 4, 4, 512))\n",
        "  labels = np.zeros(shape=(sample_count))\n",
        "  generator = datagen.flow_from_directory(\n",
        "      directory, \n",
        "      target_size=(150, 150),\n",
        "      batch_size=batch_size,\n",
        "      class_mode='binary'\n",
        "  )\n",
        "  i = 0\n",
        "  for input_batch, label_batch in generator:\n",
        "    features_batch = vgg16.predict(input_batch)\n",
        "    start = i * batch_size\n",
        "    end = (i + 1) * batch_size\n",
        "    features[ start : end ] = features_batch\n",
        "    labels[ start : end ] = label_batch\n",
        "    i += 1\n",
        "    if i * batch_size >= sample_count:\n",
        "      break\n",
        "  return features, labels\n",
        "\n",
        "  "
      ],
      "execution_count": 8,
      "outputs": []
    },
    {
      "cell_type": "code",
      "metadata": {
        "id": "Tyieg8yf31sv",
        "colab_type": "code",
        "colab": {
          "base_uri": "https://localhost:8080/",
          "height": 50
        },
        "outputId": "f5cadd96-951c-44d9-d411-147d4cd30a5e"
      },
      "source": [
        "train_features, train_labels = extract_features(dir_train, 2000)\n",
        "val_features, val_labels = extract_features(dir_validation, 1000)"
      ],
      "execution_count": 10,
      "outputs": [
        {
          "output_type": "stream",
          "text": [
            "Found 2000 images belonging to 2 classes.\n",
            "Found 1000 images belonging to 2 classes.\n"
          ],
          "name": "stdout"
        }
      ]
    },
    {
      "cell_type": "code",
      "metadata": {
        "id": "h27b1cVv4Ci8",
        "colab_type": "code",
        "colab": {}
      },
      "source": [
        "train_features = np.reshape(train_features, (2000, 4 * 4 * 512))\n",
        "val_features = np.reshape(val_features, (1000, 4 * 4 * 512))"
      ],
      "execution_count": 11,
      "outputs": []
    },
    {
      "cell_type": "code",
      "metadata": {
        "id": "XhfW-wP94iuD",
        "colab_type": "code",
        "colab": {}
      },
      "source": [
        "from tensorflow.keras import models, layers, optimizers\n",
        "\n",
        "model = models.Sequential()\n",
        "model.add(layers.Dense(256, activation='relu', input_dim=4 * 4 * 512))\n",
        "model.add(layers.Dropout(0.5))\n",
        "model.add(layers.Dense(1, activation='sigmoid'))\n",
        "\n",
        "model.compile(\n",
        "    optimizer=optimizers.RMSprop(lr=2e-5),\n",
        "    loss='binary_crossentropy',\n",
        "    metrics=['acc']\n",
        ")"
      ],
      "execution_count": 34,
      "outputs": []
    },
    {
      "cell_type": "code",
      "metadata": {
        "id": "VqoeSJF45Jrb",
        "colab_type": "code",
        "colab": {
          "base_uri": "https://localhost:8080/",
          "height": 1000
        },
        "outputId": "e3d1aefc-0cea-45a5-9809-bc6856038955"
      },
      "source": [
        "history = model.fit(\n",
        "    train_features, train_labels,\n",
        "    batch_size=batch_size,\n",
        "    epochs=30,\n",
        "    validation_data=(val_features, val_labels)\n",
        ")"
      ],
      "execution_count": 35,
      "outputs": [
        {
          "output_type": "stream",
          "text": [
            "Epoch 1/30\n",
            "100/100 [==============================] - 0s 5ms/step - loss: 0.5829 - acc: 0.6865 - val_loss: 0.4256 - val_acc: 0.8330\n",
            "Epoch 2/30\n",
            "100/100 [==============================] - 0s 4ms/step - loss: 0.4191 - acc: 0.8150 - val_loss: 0.3573 - val_acc: 0.8560\n",
            "Epoch 3/30\n",
            "100/100 [==============================] - 0s 4ms/step - loss: 0.3450 - acc: 0.8580 - val_loss: 0.3253 - val_acc: 0.8650\n",
            "Epoch 4/30\n",
            "100/100 [==============================] - 0s 4ms/step - loss: 0.3103 - acc: 0.8730 - val_loss: 0.3103 - val_acc: 0.8610\n",
            "Epoch 5/30\n",
            "100/100 [==============================] - 0s 4ms/step - loss: 0.2819 - acc: 0.8845 - val_loss: 0.2939 - val_acc: 0.8750\n",
            "Epoch 6/30\n",
            "100/100 [==============================] - 0s 4ms/step - loss: 0.2685 - acc: 0.8970 - val_loss: 0.2870 - val_acc: 0.8730\n",
            "Epoch 7/30\n",
            "100/100 [==============================] - 0s 4ms/step - loss: 0.2497 - acc: 0.9025 - val_loss: 0.2814 - val_acc: 0.8740\n",
            "Epoch 8/30\n",
            "100/100 [==============================] - 0s 4ms/step - loss: 0.2313 - acc: 0.9160 - val_loss: 0.2861 - val_acc: 0.8780\n",
            "Epoch 9/30\n",
            "100/100 [==============================] - 0s 4ms/step - loss: 0.2228 - acc: 0.9135 - val_loss: 0.2747 - val_acc: 0.8790\n",
            "Epoch 10/30\n",
            "100/100 [==============================] - 0s 4ms/step - loss: 0.2142 - acc: 0.9150 - val_loss: 0.2700 - val_acc: 0.8760\n",
            "Epoch 11/30\n",
            "100/100 [==============================] - 0s 4ms/step - loss: 0.1934 - acc: 0.9295 - val_loss: 0.2725 - val_acc: 0.8820\n",
            "Epoch 12/30\n",
            "100/100 [==============================] - 0s 4ms/step - loss: 0.1879 - acc: 0.9285 - val_loss: 0.2666 - val_acc: 0.8840\n",
            "Epoch 13/30\n",
            "100/100 [==============================] - 0s 4ms/step - loss: 0.1761 - acc: 0.9395 - val_loss: 0.2635 - val_acc: 0.8830\n",
            "Epoch 14/30\n",
            "100/100 [==============================] - 0s 4ms/step - loss: 0.1746 - acc: 0.9335 - val_loss: 0.2626 - val_acc: 0.8820\n",
            "Epoch 15/30\n",
            "100/100 [==============================] - 0s 4ms/step - loss: 0.1592 - acc: 0.9440 - val_loss: 0.2706 - val_acc: 0.8780\n",
            "Epoch 16/30\n",
            "100/100 [==============================] - 0s 4ms/step - loss: 0.1643 - acc: 0.9440 - val_loss: 0.2641 - val_acc: 0.8830\n",
            "Epoch 17/30\n",
            "100/100 [==============================] - 0s 4ms/step - loss: 0.1499 - acc: 0.9460 - val_loss: 0.2620 - val_acc: 0.8780\n",
            "Epoch 18/30\n",
            "100/100 [==============================] - 0s 4ms/step - loss: 0.1487 - acc: 0.9480 - val_loss: 0.2657 - val_acc: 0.8800\n",
            "Epoch 19/30\n",
            "100/100 [==============================] - 0s 4ms/step - loss: 0.1394 - acc: 0.9525 - val_loss: 0.2600 - val_acc: 0.8810\n",
            "Epoch 20/30\n",
            "100/100 [==============================] - 0s 4ms/step - loss: 0.1317 - acc: 0.9520 - val_loss: 0.2599 - val_acc: 0.8810\n",
            "Epoch 21/30\n",
            "100/100 [==============================] - 0s 4ms/step - loss: 0.1252 - acc: 0.9615 - val_loss: 0.2605 - val_acc: 0.8850\n",
            "Epoch 22/30\n",
            "100/100 [==============================] - 0s 4ms/step - loss: 0.1247 - acc: 0.9580 - val_loss: 0.2673 - val_acc: 0.8850\n",
            "Epoch 23/30\n",
            "100/100 [==============================] - 0s 4ms/step - loss: 0.1193 - acc: 0.9600 - val_loss: 0.2648 - val_acc: 0.8850\n",
            "Epoch 24/30\n",
            "100/100 [==============================] - 0s 4ms/step - loss: 0.1168 - acc: 0.9610 - val_loss: 0.2623 - val_acc: 0.8850\n",
            "Epoch 25/30\n",
            "100/100 [==============================] - 0s 4ms/step - loss: 0.1086 - acc: 0.9635 - val_loss: 0.2643 - val_acc: 0.8830\n",
            "Epoch 26/30\n",
            "100/100 [==============================] - 0s 4ms/step - loss: 0.1082 - acc: 0.9650 - val_loss: 0.2729 - val_acc: 0.8760\n",
            "Epoch 27/30\n",
            "100/100 [==============================] - 0s 4ms/step - loss: 0.1037 - acc: 0.9685 - val_loss: 0.2610 - val_acc: 0.8870\n",
            "Epoch 28/30\n",
            "100/100 [==============================] - 0s 4ms/step - loss: 0.0968 - acc: 0.9680 - val_loss: 0.2657 - val_acc: 0.8850\n",
            "Epoch 29/30\n",
            "100/100 [==============================] - 0s 4ms/step - loss: 0.0976 - acc: 0.9705 - val_loss: 0.2620 - val_acc: 0.8880\n",
            "Epoch 30/30\n",
            "100/100 [==============================] - 0s 4ms/step - loss: 0.0919 - acc: 0.9705 - val_loss: 0.2702 - val_acc: 0.8850\n"
          ],
          "name": "stdout"
        }
      ]
    },
    {
      "cell_type": "code",
      "metadata": {
        "id": "LYsZP4qr5gIS",
        "colab_type": "code",
        "colab": {
          "base_uri": "https://localhost:8080/",
          "height": 545
        },
        "outputId": "6832a1af-ce7b-4a88-9ea4-3fd6f62e16e1"
      },
      "source": [
        "import matplotlib.pyplot as plt\n",
        "\n",
        "def plot(history):\n",
        "  acc = history.history['acc']\n",
        "  loss = history.history['loss']\n",
        "  val_acc = history.history['val_acc']\n",
        "  val_loss = history.history['val_loss']\n",
        "\n",
        "  epochs = range(1, len(acc) + 1)\n",
        "\n",
        "  plt.plot(epochs, acc, 'bo', label='Training Accuracy')\n",
        "  plt.plot(epochs, val_acc, 'r', label='Validation Accuracy')\n",
        "  plt.title(\"Accuracy\")\n",
        "  plt.legend()\n",
        "\n",
        "  plt.figure()\n",
        "  plt.plot(epochs, loss, 'bo', label='Training Loss')\n",
        "  plt.plot(epochs, val_loss, 'r', label='Validation Loss')\n",
        "  plt.title(\"Loss\")\n",
        "  plt.legend()\n",
        "\n",
        "  plt.show()\n",
        "\n",
        "plot(history)"
      ],
      "execution_count": 36,
      "outputs": [
        {
          "output_type": "display_data",
          "data": {
            "image/png": "[encoded data removed]",
            "text/plain": [
              "<Figure size 432x288 with 1 Axes>"
            ]
          },
          "metadata": {
            "tags": [],
            "needs_background": "light"
          }
        },
        {
          "output_type": "display_data",
          "data": {
            "image/png": "[encoded data removed]",
            "text/plain": [
              "<Figure size 432x288 with 1 Axes>"
            ]
          },
          "metadata": {
            "tags": [],
            "needs_background": "light"
          }
        }
      ]
    },
    {
      "cell_type": "code",
      "metadata": {
        "id": "CWOuzygx6ilO",
        "colab_type": "code",
        "colab": {
          "base_uri": "https://localhost:8080/",
          "height": 286
        },
        "outputId": "c511cbd8-a7aa-402d-ff7b-21074439ed7d"
      },
      "source": [
        "vggmodel = models.Sequential()\n",
        "\n",
        "vggmodel.add(vgg16)\n",
        "vggmodel.add(layers.Flatten())\n",
        "vggmodel.add(layers.Dense(256, activation='relu'))\n",
        "vggmodel.add(layers.Dense(1, activation='sigmoid'))\n",
        "\n",
        "vggmodel.summary()"
      ],
      "execution_count": 37,
      "outputs": [
        {
          "output_type": "stream",
          "text": [
            "Model: \"sequential_4\"\n",
            "_________________________________________________________________\n",
            "Layer (type)                 Output Shape              Param #   \n",
            "=================================================================\n",
            "vgg16 (Functional)           (None, 4, 4, 512)         14714688  \n",
            "_________________________________________________________________\n",
            "flatten_1 (Flatten)          (None, 8192)              0         \n",
            "_________________________________________________________________\n",
            "dense_8 (Dense)              (None, 256)               2097408   \n",
            "_________________________________________________________________\n",
            "dense_9 (Dense)              (None, 1)                 257       \n",
            "=================================================================\n",
            "Total params: 16,812,353\n",
            "Trainable params: 2,097,665\n",
            "Non-trainable params: 14,714,688\n",
            "_________________________________________________________________\n"
          ],
          "name": "stdout"
        }
      ]
    },
    {
      "cell_type": "code",
      "metadata": {
        "id": "tVC-T4dI7MYN",
        "colab_type": "code",
        "colab": {
          "base_uri": "https://localhost:8080/",
          "height": 34
        },
        "outputId": "e0668121-8c69-4a4d-803d-8671e013e868"
      },
      "source": [
        "print(\"Original trainable weights\", len(vggmodel.trainable_weights))"
      ],
      "execution_count": 38,
      "outputs": [
        {
          "output_type": "stream",
          "text": [
            "Original trainable weights 4\n"
          ],
          "name": "stdout"
        }
      ]
    },
    {
      "cell_type": "code",
      "metadata": {
        "id": "s-JrBMh57cv2",
        "colab_type": "code",
        "colab": {
          "base_uri": "https://localhost:8080/",
          "height": 34
        },
        "outputId": "654862b3-efa1-4435-fd69-3153649c585b"
      },
      "source": [
        "vgg16.trainable = False\n",
        "print(\"New trainable weights\", len(vggmodel.trainable_weights))"
      ],
      "execution_count": 39,
      "outputs": [
        {
          "output_type": "stream",
          "text": [
            "New trainable weights 4\n"
          ],
          "name": "stdout"
        }
      ]
    },
    {
      "cell_type": "code",
      "metadata": {
        "id": "ajNJoMq_7qdZ",
        "colab_type": "code",
        "colab": {}
      },
      "source": [
        "train_datagen = ImageDataGenerator(\n",
        "    rescale=1.0/255,\n",
        "    rotation_range=40,\n",
        "    width_shift_range=0.2,\n",
        "    height_shift_range=0.2,\n",
        "    shear_range=0.2,\n",
        "    zoom_range=0.2,\n",
        "    horizontal_flip=True,\n",
        "    fill_mode='nearest'\n",
        ")\n",
        "val_datagen = ImageDataGenerator(rescale=1.0/255)\n"
      ],
      "execution_count": 40,
      "outputs": []
    },
    {
      "cell_type": "code",
      "metadata": {
        "id": "1rr9NtaM8Sos",
        "colab_type": "code",
        "colab": {
          "base_uri": "https://localhost:8080/",
          "height": 50
        },
        "outputId": "03b48a8a-268b-4122-c6ef-af186e19c077"
      },
      "source": [
        "train_generator = train_datagen.flow_from_directory(\n",
        "    dir_train, \n",
        "    target_size=(150, 150), \n",
        "    class_mode='binary', \n",
        "    batch_size=batch_size\n",
        ")\n",
        "\n",
        "val_generator = val_datagen.flow_from_directory(\n",
        "    dir_validation, \n",
        "    target_size=(150, 150), \n",
        "    class_mode='binary', \n",
        "    batch_size=batch_size\n",
        ")\n",
        "\n",
        "vggmodel.compile(\n",
        "    optimizer=optimizers.RMSprop(lr=1e-5),\n",
        "    loss='binary_crossentropy',\n",
        "    metrics=['acc']\n",
        ")"
      ],
      "execution_count": 44,
      "outputs": [
        {
          "output_type": "stream",
          "text": [
            "Found 2000 images belonging to 2 classes.\n",
            "Found 1000 images belonging to 2 classes.\n"
          ],
          "name": "stdout"
        }
      ]
    },
    {
      "cell_type": "code",
      "metadata": {
        "id": "zJTH7_cg84n1",
        "colab_type": "code",
        "colab": {
          "base_uri": "https://localhost:8080/",
          "height": 1000
        },
        "outputId": "16d468da-132f-4f65-d77c-961129b39d68"
      },
      "source": [
        "vgghistory = vggmodel.fit_generator(\n",
        "    train_generator,\n",
        "    epochs=30,\n",
        "    steps_per_epoch=100,\n",
        "    validation_data=val_generator,\n",
        "    validation_steps=50\n",
        ")"
      ],
      "execution_count": 45,
      "outputs": [
        {
          "output_type": "stream",
          "text": [
            "Epoch 1/30\n",
            "100/100 [==============================] - 19s 186ms/step - loss: 0.2800 - acc: 0.8855 - val_loss: 0.2426 - val_acc: 0.8990\n",
            "Epoch 2/30\n",
            "100/100 [==============================] - 18s 183ms/step - loss: 0.2740 - acc: 0.8885 - val_loss: 0.2432 - val_acc: 0.8990\n",
            "Epoch 3/30\n",
            "100/100 [==============================] - 18s 183ms/step - loss: 0.2775 - acc: 0.8740 - val_loss: 0.2528 - val_acc: 0.8970\n",
            "Epoch 4/30\n",
            "100/100 [==============================] - 18s 182ms/step - loss: 0.2686 - acc: 0.8825 - val_loss: 0.2555 - val_acc: 0.8960\n",
            "Epoch 5/30\n",
            "100/100 [==============================] - 18s 183ms/step - loss: 0.2789 - acc: 0.8735 - val_loss: 0.2472 - val_acc: 0.8940\n",
            "Epoch 6/30\n",
            "100/100 [==============================] - 18s 184ms/step - loss: 0.2732 - acc: 0.8870 - val_loss: 0.2404 - val_acc: 0.8970\n",
            "Epoch 7/30\n",
            "100/100 [==============================] - 18s 184ms/step - loss: 0.2767 - acc: 0.8770 - val_loss: 0.2390 - val_acc: 0.8990\n",
            "Epoch 8/30\n",
            "100/100 [==============================] - 18s 183ms/step - loss: 0.2753 - acc: 0.8860 - val_loss: 0.2407 - val_acc: 0.9010\n",
            "Epoch 9/30\n",
            "100/100 [==============================] - 18s 182ms/step - loss: 0.2675 - acc: 0.8890 - val_loss: 0.2387 - val_acc: 0.9010\n",
            "Epoch 10/30\n",
            "100/100 [==============================] - 18s 182ms/step - loss: 0.2726 - acc: 0.8890 - val_loss: 0.2427 - val_acc: 0.8990\n",
            "Epoch 11/30\n",
            "100/100 [==============================] - 18s 183ms/step - loss: 0.2719 - acc: 0.8850 - val_loss: 0.2387 - val_acc: 0.9020\n",
            "Epoch 12/30\n",
            "100/100 [==============================] - 18s 182ms/step - loss: 0.2620 - acc: 0.8895 - val_loss: 0.2421 - val_acc: 0.9010\n",
            "Epoch 13/30\n",
            "100/100 [==============================] - 18s 181ms/step - loss: 0.2736 - acc: 0.8780 - val_loss: 0.2514 - val_acc: 0.8950\n",
            "Epoch 14/30\n",
            "100/100 [==============================] - 18s 181ms/step - loss: 0.2537 - acc: 0.8935 - val_loss: 0.2432 - val_acc: 0.9000\n",
            "Epoch 15/30\n",
            "100/100 [==============================] - 18s 182ms/step - loss: 0.2664 - acc: 0.8825 - val_loss: 0.2596 - val_acc: 0.8940\n",
            "Epoch 16/30\n",
            "100/100 [==============================] - 18s 181ms/step - loss: 0.2693 - acc: 0.8880 - val_loss: 0.2409 - val_acc: 0.9020\n",
            "Epoch 17/30\n",
            "100/100 [==============================] - 18s 181ms/step - loss: 0.2653 - acc: 0.8825 - val_loss: 0.2426 - val_acc: 0.9050\n",
            "Epoch 18/30\n",
            "100/100 [==============================] - 18s 181ms/step - loss: 0.2775 - acc: 0.8865 - val_loss: 0.2415 - val_acc: 0.9020\n",
            "Epoch 19/30\n",
            "100/100 [==============================] - 18s 182ms/step - loss: 0.2725 - acc: 0.8905 - val_loss: 0.2437 - val_acc: 0.8990\n",
            "Epoch 20/30\n",
            "100/100 [==============================] - 18s 183ms/step - loss: 0.2618 - acc: 0.8910 - val_loss: 0.2555 - val_acc: 0.8940\n",
            "Epoch 21/30\n",
            "100/100 [==============================] - 18s 182ms/step - loss: 0.2747 - acc: 0.8795 - val_loss: 0.2390 - val_acc: 0.8960\n",
            "Epoch 22/30\n",
            "100/100 [==============================] - 18s 182ms/step - loss: 0.2631 - acc: 0.8875 - val_loss: 0.2372 - val_acc: 0.9020\n",
            "Epoch 23/30\n",
            "100/100 [==============================] - 18s 184ms/step - loss: 0.2457 - acc: 0.9030 - val_loss: 0.2413 - val_acc: 0.9020\n",
            "Epoch 24/30\n",
            "100/100 [==============================] - 18s 184ms/step - loss: 0.2682 - acc: 0.8885 - val_loss: 0.2382 - val_acc: 0.9000\n",
            "Epoch 25/30\n",
            "100/100 [==============================] - 18s 181ms/step - loss: 0.2752 - acc: 0.8790 - val_loss: 0.2381 - val_acc: 0.9030\n",
            "Epoch 26/30\n",
            "100/100 [==============================] - 18s 182ms/step - loss: 0.2556 - acc: 0.8925 - val_loss: 0.2404 - val_acc: 0.9010\n",
            "Epoch 27/30\n",
            "100/100 [==============================] - 18s 181ms/step - loss: 0.2596 - acc: 0.8890 - val_loss: 0.2367 - val_acc: 0.9030\n",
            "Epoch 28/30\n",
            "100/100 [==============================] - 18s 183ms/step - loss: 0.2576 - acc: 0.8865 - val_loss: 0.2377 - val_acc: 0.9000\n",
            "Epoch 29/30\n",
            "100/100 [==============================] - 18s 182ms/step - loss: 0.2494 - acc: 0.8975 - val_loss: 0.2381 - val_acc: 0.9000\n",
            "Epoch 30/30\n",
            "100/100 [==============================] - 18s 181ms/step - loss: 0.2698 - acc: 0.8810 - val_loss: 0.2410 - val_acc: 0.9010\n"
          ],
          "name": "stdout"
        }
      ]
    },
    {
      "cell_type": "code",
      "metadata": {
        "id": "wWKNiYAA9PNN",
        "colab_type": "code",
        "colab": {
          "base_uri": "https://localhost:8080/",
          "height": 545
        },
        "outputId": "b913b267-9c9c-47d9-a638-225a1a08c27e"
      },
      "source": [
        "plot(vgghistory)"
      ],
      "execution_count": 46,
      "outputs": [
        {
          "output_type": "display_data",
          "data": {
            "image/png": "[encoded data removed]",
            "text/plain": [
              "<Figure size 432x288 with 1 Axes>"
            ]
          },
          "metadata": {
            "tags": [],
            "needs_background": "light"
          }
        },
        {
          "output_type": "display_data",
          "data": {
            "image/png": "[encoded data removed]",
            "text/plain": [
              "<Figure size 432x288 with 1 Axes>"
            ]
          },
          "metadata": {
            "tags": [],
            "needs_background": "light"
          }
        }
      ]
    },
    {
      "cell_type": "markdown",
      "metadata": {
        "id": "iJU1oOesFNxd",
        "colab_type": "text"
      },
      "source": [
        "GETTING MUCH WORSE RESULTS"
      ]
    },
    {
      "cell_type": "code",
      "metadata": {
        "id": "mATlk3ouFiGI",
        "colab_type": "code",
        "colab": {
          "base_uri": "https://localhost:8080/",
          "height": 790
        },
        "outputId": "ce71c29c-3503-4c55-89d7-55522d4a8d2c"
      },
      "source": [
        "vgg16.summary()"
      ],
      "execution_count": 50,
      "outputs": [
        {
          "output_type": "stream",
          "text": [
            "Model: \"vgg16\"\n",
            "_________________________________________________________________\n",
            "Layer (type)                 Output Shape              Param #   \n",
            "=================================================================\n",
            "input_2 (InputLayer)         [(None, 150, 150, 3)]     0         \n",
            "_________________________________________________________________\n",
            "block1_conv1 (Conv2D)        (None, 150, 150, 64)      1792      \n",
            "_________________________________________________________________\n",
            "block1_conv2 (Conv2D)        (None, 150, 150, 64)      36928     \n",
            "_________________________________________________________________\n",
            "block1_pool (MaxPooling2D)   (None, 75, 75, 64)        0         \n",
            "_________________________________________________________________\n",
            "block2_conv1 (Conv2D)        (None, 75, 75, 128)       73856     \n",
            "_________________________________________________________________\n",
            "block2_conv2 (Conv2D)        (None, 75, 75, 128)       147584    \n",
            "_________________________________________________________________\n",
            "block2_pool (MaxPooling2D)   (None, 37, 37, 128)       0         \n",
            "_________________________________________________________________\n",
            "block3_conv1 (Conv2D)        (None, 37, 37, 256)       295168    \n",
            "_________________________________________________________________\n",
            "block3_conv2 (Conv2D)        (None, 37, 37, 256)       590080    \n",
            "_________________________________________________________________\n",
            "block3_conv3 (Conv2D)        (None, 37, 37, 256)       590080    \n",
            "_________________________________________________________________\n",
            "block3_pool (MaxPooling2D)   (None, 18, 18, 256)       0         \n",
            "_________________________________________________________________\n",
            "block4_conv1 (Conv2D)        (None, 18, 18, 512)       1180160   \n",
            "_________________________________________________________________\n",
            "block4_conv2 (Conv2D)        (None, 18, 18, 512)       2359808   \n",
            "_________________________________________________________________\n",
            "block4_conv3 (Conv2D)        (None, 18, 18, 512)       2359808   \n",
            "_________________________________________________________________\n",
            "block4_pool (MaxPooling2D)   (None, 9, 9, 512)         0         \n",
            "_________________________________________________________________\n",
            "block5_conv1 (Conv2D)        (None, 9, 9, 512)         2359808   \n",
            "_________________________________________________________________\n",
            "block5_conv2 (Conv2D)        (None, 9, 9, 512)         2359808   \n",
            "_________________________________________________________________\n",
            "block5_conv3 (Conv2D)        (None, 9, 9, 512)         2359808   \n",
            "_________________________________________________________________\n",
            "block5_pool (MaxPooling2D)   (None, 4, 4, 512)         0         \n",
            "=================================================================\n",
            "Total params: 14,714,688\n",
            "Trainable params: 0\n",
            "Non-trainable params: 14,714,688\n",
            "_________________________________________________________________\n"
          ],
          "name": "stdout"
        }
      ]
    },
    {
      "cell_type": "code",
      "metadata": {
        "id": "eqNw2igTFPw2",
        "colab_type": "code",
        "colab": {
          "base_uri": "https://localhost:8080/",
          "height": 336
        },
        "outputId": "b07b3a0b-17ec-40a2-825e-d15d70702888"
      },
      "source": [
        "[layer.name for layer in vgg16.layers]"
      ],
      "execution_count": 49,
      "outputs": [
        {
          "output_type": "execute_result",
          "data": {
            "text/plain": [
              "['input_2',\n",
              " 'block1_conv1',\n",
              " 'block1_conv2',\n",
              " 'block1_pool',\n",
              " 'block2_conv1',\n",
              " 'block2_conv2',\n",
              " 'block2_pool',\n",
              " 'block3_conv1',\n",
              " 'block3_conv2',\n",
              " 'block3_conv3',\n",
              " 'block3_pool',\n",
              " 'block4_conv1',\n",
              " 'block4_conv2',\n",
              " 'block4_conv3',\n",
              " 'block4_pool',\n",
              " 'block5_conv1',\n",
              " 'block5_conv2',\n",
              " 'block5_conv3',\n",
              " 'block5_pool']"
            ]
          },
          "metadata": {
            "tags": []
          },
          "execution_count": 49
        }
      ]
    },
    {
      "cell_type": "code",
      "metadata": {
        "id": "XqkYv5qWFWs7",
        "colab_type": "code",
        "colab": {}
      },
      "source": [
        "for layer in vgg16.layers:\n",
        "  if 'block5' in layer.name:\n",
        "    layer.trainable = False"
      ],
      "execution_count": 52,
      "outputs": []
    },
    {
      "cell_type": "code",
      "metadata": {
        "id": "ypqMqj0mFtHj",
        "colab_type": "code",
        "colab": {}
      },
      "source": [
        "vggmodel.compile(\n",
        "    loss='binary_crossentropy',\n",
        "    optimizer=optimizers.RMSprop(learning_rate=1e-5),\n",
        "    metrics=['acc']\n",
        ")"
      ],
      "execution_count": 53,
      "outputs": []
    },
    {
      "cell_type": "code",
      "metadata": {
        "id": "FEhBIM1HGDz2",
        "colab_type": "code",
        "colab": {
          "base_uri": "https://localhost:8080/",
          "height": 1000
        },
        "outputId": "88ecc11d-abb8-49f5-ac21-7fb14fab6d1a"
      },
      "source": [
        "vgghistory2 = vggmodel.fit_generator(\n",
        "    train_generator, \n",
        "    steps_per_epoch=100,\n",
        "    epochs=30,\n",
        "    validation_data=val_generator,\n",
        "    validation_steps=50\n",
        ")"
      ],
      "execution_count": 54,
      "outputs": [
        {
          "output_type": "stream",
          "text": [
            "Epoch 1/30\n",
            "100/100 [==============================] - 19s 188ms/step - loss: 0.2711 - acc: 0.8830 - val_loss: 0.2377 - val_acc: 0.9020\n",
            "Epoch 2/30\n",
            "100/100 [==============================] - 19s 185ms/step - loss: 0.2552 - acc: 0.8945 - val_loss: 0.2394 - val_acc: 0.9040\n",
            "Epoch 3/30\n",
            "100/100 [==============================] - 19s 185ms/step - loss: 0.2488 - acc: 0.9045 - val_loss: 0.2431 - val_acc: 0.9000\n",
            "Epoch 4/30\n",
            "100/100 [==============================] - 18s 184ms/step - loss: 0.2607 - acc: 0.8845 - val_loss: 0.2392 - val_acc: 0.9000\n",
            "Epoch 5/30\n",
            "100/100 [==============================] - 18s 183ms/step - loss: 0.2545 - acc: 0.8900 - val_loss: 0.2450 - val_acc: 0.8960\n",
            "Epoch 6/30\n",
            "100/100 [==============================] - 18s 182ms/step - loss: 0.2487 - acc: 0.9010 - val_loss: 0.2536 - val_acc: 0.8970\n",
            "Epoch 7/30\n",
            "100/100 [==============================] - 18s 183ms/step - loss: 0.2554 - acc: 0.8905 - val_loss: 0.2432 - val_acc: 0.9000\n",
            "Epoch 8/30\n",
            "100/100 [==============================] - 18s 183ms/step - loss: 0.2604 - acc: 0.8815 - val_loss: 0.2384 - val_acc: 0.9000\n",
            "Epoch 9/30\n",
            "100/100 [==============================] - 18s 181ms/step - loss: 0.2677 - acc: 0.8860 - val_loss: 0.2384 - val_acc: 0.9000\n",
            "Epoch 10/30\n",
            "100/100 [==============================] - 18s 183ms/step - loss: 0.2556 - acc: 0.8890 - val_loss: 0.2437 - val_acc: 0.8990\n",
            "Epoch 11/30\n",
            "100/100 [==============================] - 18s 183ms/step - loss: 0.2506 - acc: 0.8940 - val_loss: 0.2370 - val_acc: 0.9060\n",
            "Epoch 12/30\n",
            "100/100 [==============================] - 18s 184ms/step - loss: 0.2503 - acc: 0.8950 - val_loss: 0.2387 - val_acc: 0.9030\n",
            "Epoch 13/30\n",
            "100/100 [==============================] - 18s 184ms/step - loss: 0.2584 - acc: 0.8895 - val_loss: 0.2429 - val_acc: 0.9010\n",
            "Epoch 14/30\n",
            "100/100 [==============================] - 18s 183ms/step - loss: 0.2565 - acc: 0.8930 - val_loss: 0.2431 - val_acc: 0.8990\n",
            "Epoch 15/30\n",
            "100/100 [==============================] - 18s 183ms/step - loss: 0.2606 - acc: 0.8895 - val_loss: 0.2387 - val_acc: 0.9040\n",
            "Epoch 16/30\n",
            "100/100 [==============================] - 18s 183ms/step - loss: 0.2603 - acc: 0.8875 - val_loss: 0.2371 - val_acc: 0.9090\n",
            "Epoch 17/30\n",
            "100/100 [==============================] - 18s 182ms/step - loss: 0.2420 - acc: 0.8950 - val_loss: 0.2435 - val_acc: 0.9010\n",
            "Epoch 18/30\n",
            "100/100 [==============================] - 18s 182ms/step - loss: 0.2472 - acc: 0.8975 - val_loss: 0.2448 - val_acc: 0.8980\n",
            "Epoch 19/30\n",
            "100/100 [==============================] - 18s 181ms/step - loss: 0.2443 - acc: 0.8995 - val_loss: 0.2431 - val_acc: 0.8980\n",
            "Epoch 20/30\n",
            "100/100 [==============================] - 18s 182ms/step - loss: 0.2443 - acc: 0.8960 - val_loss: 0.2402 - val_acc: 0.9050\n",
            "Epoch 21/30\n",
            "100/100 [==============================] - 18s 182ms/step - loss: 0.2453 - acc: 0.9010 - val_loss: 0.2413 - val_acc: 0.9010\n",
            "Epoch 22/30\n",
            "100/100 [==============================] - 18s 181ms/step - loss: 0.2557 - acc: 0.8890 - val_loss: 0.2352 - val_acc: 0.9040\n",
            "Epoch 23/30\n",
            "100/100 [==============================] - 18s 182ms/step - loss: 0.2486 - acc: 0.8925 - val_loss: 0.2427 - val_acc: 0.9040\n",
            "Epoch 24/30\n",
            "100/100 [==============================] - 18s 181ms/step - loss: 0.2545 - acc: 0.8895 - val_loss: 0.2357 - val_acc: 0.9070\n",
            "Epoch 25/30\n",
            "100/100 [==============================] - 18s 182ms/step - loss: 0.2546 - acc: 0.8945 - val_loss: 0.2408 - val_acc: 0.9010\n",
            "Epoch 26/30\n",
            "100/100 [==============================] - 18s 182ms/step - loss: 0.2438 - acc: 0.9025 - val_loss: 0.2365 - val_acc: 0.9070\n",
            "Epoch 27/30\n",
            "100/100 [==============================] - 18s 183ms/step - loss: 0.2311 - acc: 0.8990 - val_loss: 0.2480 - val_acc: 0.8970\n",
            "Epoch 28/30\n",
            "100/100 [==============================] - 18s 182ms/step - loss: 0.2614 - acc: 0.8875 - val_loss: 0.2551 - val_acc: 0.8960\n",
            "Epoch 29/30\n",
            "100/100 [==============================] - 18s 184ms/step - loss: 0.2479 - acc: 0.8925 - val_loss: 0.2339 - val_acc: 0.9060\n",
            "Epoch 30/30\n",
            "100/100 [==============================] - 18s 184ms/step - loss: 0.2575 - acc: 0.8945 - val_loss: 0.2336 - val_acc: 0.9070\n"
          ],
          "name": "stdout"
        }
      ]
    },
    {
      "cell_type": "code",
      "metadata": {
        "id": "g1LGaGQuGTjQ",
        "colab_type": "code",
        "colab": {
          "base_uri": "https://localhost:8080/",
          "height": 545
        },
        "outputId": "684cdeb1-817f-4764-b914-131941733141"
      },
      "source": [
        "plot(vgghistory2)"
      ],
      "execution_count": 55,
      "outputs": [
        {
          "output_type": "display_data",
          "data": {
            "image/png": "[encoded data removed]",
            "text/plain": [
              "<Figure size 432x288 with 1 Axes>"
            ]
          },
          "metadata": {
            "tags": [],
            "needs_background": "light"
          }
        },
        {
          "output_type": "display_data",
          "data": {
            "image/png": "[encoded data removed]",
            "text/plain": [
              "<Figure size 432x288 with 1 Axes>"
            ]
          },
          "metadata": {
            "tags": [],
            "needs_background": "light"
          }
        }
      ]
    },
    {
      "cell_type": "markdown",
      "metadata": {
        "id": "5n1cW0FhQ-nD",
        "colab_type": "text"
      },
      "source": [
        "# Extremely bad results. Why?"
      ]
    },
    {
      "cell_type": "code",
      "metadata": {
        "id": "Z5TVLbtjQ72s",
        "colab_type": "code",
        "colab": {}
      },
      "source": [
        ""
      ],
      "execution_count": null,
      "outputs": []
    }
  ]
}